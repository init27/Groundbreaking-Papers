{
 "cells": [
  {
   "cell_type": "markdown",
   "metadata": {
    "colab": {
     "base_uri": "https://localhost:8080/"
    },
    "id": "lIYdn1woOS1n",
    "outputId": "d6a3872e-734e-4674-b8a0-0290d85d98f5"
   },
   "source": [
    "## Imports"
   ]
  },
  {
   "cell_type": "code",
   "execution_count": 1,
   "metadata": {},
   "outputs": [],
   "source": [
    "import wandb\n",
    "from wandb.keras import WandbCallback\n",
    "\n",
    "import numpy as np\n",
    "from typing import Union\n",
    "import matplotlib.pyplot as plt\n",
    "\n",
    "import tensorflow as tf\n",
    "from tensorflow import keras\n",
    "from tensorflow.keras import Model, Input, Sequential\n",
    "from tensorflow.keras.layers.experimental import preprocessing\n",
    "from tensorflow.keras import (\n",
    "    layers,\n",
    "    losses,\n",
    "    metrics,\n",
    "    datasets,\n",
    "    mixed_precision,\n",
    "    optimizers,\n",
    "    callbacks\n",
    ")"
   ]
  },
  {
   "cell_type": "markdown",
   "metadata": {},
   "source": [
    "## Experiment Configs"
   ]
  },
  {
   "cell_type": "code",
   "execution_count": 2,
   "metadata": {},
   "outputs": [],
   "source": [
    "CONFIGS = {\n",
    "    \"dataset_name\": \"CIFAR-10\",\n",
    "    \"image_size\": 32,\n",
    "    \"target_size\": 72,\n",
    "    \"patch_size\": 9,\n",
    "    \"num_mixer_layers\": 5,\n",
    "    \"embedding_dim\": 128,\n",
    "    \"channels_mlp_dim\": 128,\n",
    "    \"num_classes\": 10,\n",
    "    \"dropout\": 0.5,\n",
    "    \"batch_size\": 256,\n",
    "    \"learning_rate\": 0.001,\n",
    "    \"epochs\": 50,\n",
    "    \"label_smoothing\": 0.01,\n",
    "    \"mixed_precision\": True,\n",
    "    \"class_names\": [\n",
    "        \"airplane\", \"automobile\", \"bird\", \"cat\",\n",
    "        \"deer\", \"dog\", \"frog\", \"horse\", \"ship\", \"truck\"\n",
    "    ]\n",
    "}"
   ]
  },
  {
   "cell_type": "code",
   "execution_count": 3,
   "metadata": {},
   "outputs": [
    {
     "name": "stdout",
     "output_type": "stream",
     "text": [
      "INFO:tensorflow:Mixed precision compatibility check (mixed_float16): OK\n",
      "Your GPU will likely run quickly with dtype policy mixed_float16 as it has compute capability of at least 7.0. Your GPU: NVIDIA RTX A6000, compute capability 8.6\n"
     ]
    },
    {
     "name": "stderr",
     "output_type": "stream",
     "text": [
      "2022-01-29 08:31:21.195145: I tensorflow/stream_executor/cuda/cuda_gpu_executor.cc:937] successful NUMA node read from SysFS had negative value (-1), but there must be at least one NUMA node, so returning NUMA node zero\n",
      "2022-01-29 08:31:21.239387: I tensorflow/stream_executor/cuda/cuda_gpu_executor.cc:937] successful NUMA node read from SysFS had negative value (-1), but there must be at least one NUMA node, so returning NUMA node zero\n",
      "2022-01-29 08:31:21.241010: I tensorflow/stream_executor/cuda/cuda_gpu_executor.cc:937] successful NUMA node read from SysFS had negative value (-1), but there must be at least one NUMA node, so returning NUMA node zero\n",
      "2022-01-29 08:31:21.242997: I tensorflow/stream_executor/cuda/cuda_gpu_executor.cc:937] successful NUMA node read from SysFS had negative value (-1), but there must be at least one NUMA node, so returning NUMA node zero\n"
     ]
    }
   ],
   "source": [
    "if CONFIGS[\"mixed_precision\"]:\n",
    "    mixed_precision.set_global_policy(\"mixed_float16\")"
   ]
  },
  {
   "cell_type": "markdown",
   "metadata": {},
   "source": [
    "## Fetch CIFAR-10 Dataset"
   ]
  },
  {
   "cell_type": "code",
   "execution_count": 4,
   "metadata": {
    "id": "1lbRgIu0BbTF"
   },
   "outputs": [
    {
     "name": "stdout",
     "output_type": "stream",
     "text": [
      "x_train.shape: (50000, 32, 32, 3)\n",
      "y_train.shape: (50000, 10)\n",
      "x_test.shape: (10000, 32, 32, 3)\n",
      "y_test.shape: (10000, 10)\n"
     ]
    }
   ],
   "source": [
    "def get_cifar10(num_classes: int):\n",
    "    (x_train, y_train), (x_test, y_test) = datasets.cifar10.load_data()\n",
    "    y_train = keras.utils.to_categorical(y_train, num_classes)\n",
    "    y_test = keras.utils.to_categorical(y_test, num_classes)\n",
    "    return (x_train, y_train), (x_test, y_test)\n",
    "\n",
    "\n",
    "(x_train, y_train), (x_test, y_test) = get_cifar10(num_classes=10)\n",
    "print(\"x_train.shape:\", x_train.shape)\n",
    "print(\"y_train.shape:\", y_train.shape)\n",
    "print(\"x_test.shape:\", x_test.shape)\n",
    "print(\"y_test.shape:\", y_test.shape)"
   ]
  },
  {
   "cell_type": "markdown",
   "metadata": {},
   "source": [
    "## MLP-Mixer Model"
   ]
  },
  {
   "cell_type": "code",
   "execution_count": 5,
   "metadata": {
    "id": "t6qEXvcVR7ZJ"
   },
   "outputs": [],
   "source": [
    "def get_preprocessing_layer(\n",
    "    data_batch: Union[np.ndarray, tf.Tensor], target_size: int\n",
    ") -> Sequential:\n",
    "    normalization = preprocessing.Normalization()\n",
    "    normalization.adapt(data_batch)\n",
    "    resize = preprocessing.Resizing(target_size, target_size)\n",
    "    return Sequential([normalization, resize], name=\"preprocessing\")\n",
    "\n",
    "\n",
    "def get_augmentation_layer() -> Sequential:\n",
    "    return keras.Sequential(\n",
    "        [\n",
    "            preprocessing.RandomFlip(\"horizontal\"),\n",
    "            preprocessing.RandomRotation(factor=0.02),\n",
    "            preprocessing.RandomZoom(height_factor=0.2, width_factor=0.2),\n",
    "        ],\n",
    "        name=\"augmentation\",\n",
    "    )"
   ]
  },
  {
   "cell_type": "code",
   "execution_count": 6,
   "metadata": {
    "id": "_8cOi71NDCPC"
   },
   "outputs": [],
   "source": [
    "def patch_embedding(\n",
    "    inputs: tf.Tensor, embedding_dim: int, patch_size: int\n",
    ") -> tf.Tensor:\n",
    "    x = layers.Conv2D(\n",
    "        embedding_dim,\n",
    "        kernel_size=patch_size,\n",
    "        strides=patch_size,\n",
    "        name=\"patch_embedding_conv2d\"\n",
    "    )(inputs)\n",
    "    return layers.Reshape(\n",
    "        (x.shape[1] * x.shape[2], x.shape[3]),\n",
    "        name=\"patch_embedding_reshape\"\n",
    "    )(x)\n",
    "\n",
    "\n",
    "def mlp_block(inputs: tf.Tensor, mlp_dim: int, name: str) -> tf.Tensor:\n",
    "    x = layers.Dense(mlp_dim, name=name + \"_dense_1\")(inputs)\n",
    "    x = layers.Activation(\"gelu\", name=name + \"_gelu_activation\")(x)\n",
    "    return layers.Dense(x.shape[-1], name=name + \"_dense_2\")(x)\n",
    "\n",
    "\n",
    "def mixer_block(\n",
    "    inputs: tf.Tensor, tokens_mlp_dim: int, channels_mlp_dim: int, name: str\n",
    ") -> tf.Tensor:\n",
    "    y = layers.LayerNormalization(name=name + \"_layer_norm_1\")(inputs)\n",
    "    y = layers.Permute((2, 1), name=name + \"_swap_axes_1\")(y)\n",
    "    # Token Mixing\n",
    "    y = mlp_block(y, tokens_mlp_dim, name=name + \"_mlp_block_1\")\n",
    "    y = layers.Permute((2, 1), name=name + \"_swap_axes_2\")(y)\n",
    "    x = layers.Add(name=name + \"_skip_connection_token\")([inputs, y])\n",
    "    # Channel Mixing\n",
    "    y = layers.LayerNormalization(name=name + \"_layer_norm_2\")(x)\n",
    "    y = mlp_block(y, channels_mlp_dim, name=name + \"_mlp_block_2\")\n",
    "    return layers.Add(name=name + \"_skip_connection_channel\")([x, y])\n",
    "\n",
    "\n",
    "def get_mlp_mixer_model(\n",
    "    num_mixer_blocks: int,\n",
    "    patch_size: int,\n",
    "    embedding_dim: int,\n",
    "    channels_mlp_dim: int,\n",
    "    num_classes: int,\n",
    "    preprocessing_layer: Union[Sequential, None],\n",
    "    augmentation_layer: Union[Sequential, None],\n",
    ") -> Model:\n",
    "    inputs = Input(\n",
    "        shape=(CONFIGS[\"image_size\"], CONFIGS[\"image_size\"], 3), name=\"Input\"\n",
    "    )\n",
    "    preprocessed_inputs = (\n",
    "        preprocessing_layer(inputs) if preprocessing_layer is not None else inputs\n",
    "    )\n",
    "    augmented_inputs = (\n",
    "        augmentation_layer(preprocessed_inputs)\n",
    "        if augmentation_layer is not None\n",
    "        else preprocessed_inputs\n",
    "    )\n",
    "    x = patch_embedding(augmented_inputs, embedding_dim, patch_size)\n",
    "    tokens_mlp_dim = x.shape[-2]\n",
    "    for idx in range(num_mixer_blocks):\n",
    "        x = mixer_block(\n",
    "            x, tokens_mlp_dim, channels_mlp_dim, name=f\"mixer_block_{idx}\"\n",
    "        )\n",
    "    x = layers.LayerNormalization(name=\"layer_norm_post_mixer\")(x)\n",
    "    x = layers.Dropout(CONFIGS[\"dropout\"], name=\"dropout\")(x)\n",
    "    x = layers.GlobalAveragePooling1D(name=\"global_average_pooling\")(x)\n",
    "    outputs = layers.Dense(\n",
    "        num_classes, activation=\"softmax\", dtype=\"float32\", name=\"output\"\n",
    "    )(x)\n",
    "    return Model(inputs, outputs, name=\"mlp_mixer\")"
   ]
  },
  {
   "cell_type": "markdown",
   "metadata": {},
   "source": [
    "## Callbacks\n",
    "\n",
    "Custom Callback to log the Linear Projections of the Patch Embedding Layer."
   ]
  },
  {
   "cell_type": "code",
   "execution_count": 7,
   "metadata": {},
   "outputs": [],
   "source": [
    "class LogProjectionCallback(callbacks.Callback):\n",
    "    \n",
    "    def __init__(self, embedding_dim: int):\n",
    "        super().__init__()\n",
    "        self.embedding_dim = embedding_dim\n",
    "    \n",
    "    def on_epoch_end(self, epoch, logs=None):\n",
    "        projections = model.get_layer(\"patch_embedding_conv2d\").get_weights()[0]\n",
    "        projections_min, projections_max = projections.min(), projections.max()\n",
    "        projections = (projections - projections_min) / (projections_max - projections_min)\n",
    "        log_data = []\n",
    "        for idx in range(CONFIGS[\"embedding_dim\"]):\n",
    "            log_data.append(wandb.Image(projections[:, :, :, idx]))\n",
    "        wandb.log({\"Projection of Patches\": log_data}, step=epoch)"
   ]
  },
  {
   "cell_type": "markdown",
   "metadata": {},
   "source": [
    "## Experiment: Train and Eval"
   ]
  },
  {
   "cell_type": "code",
   "execution_count": null,
   "metadata": {},
   "outputs": [
    {
     "name": "stderr",
     "output_type": "stream",
     "text": [
      "Failed to detect the name of this notebook, you can set it manually with the WANDB_NOTEBOOK_NAME environment variable to enable code saving.\n",
      "\u001b[34m\u001b[1mwandb\u001b[0m: Currently logged in as: \u001b[33mgeekyrakshit\u001b[0m (use `wandb login --relogin` to force relogin)\n"
     ]
    },
    {
     "data": {
      "text/html": [
       "\n",
       "                    Syncing run <strong><a href=\"https://wandb.ai/geekyrakshit/mlp-mixer/runs/1qt4n5hl\" target=\"_blank\">cifar-10-best-hyperparams</a></strong> to <a href=\"https://wandb.ai/geekyrakshit/mlp-mixer\" target=\"_blank\">Weights & Biases</a> (<a href=\"https://docs.wandb.com/integrations/jupyter.html\" target=\"_blank\">docs</a>).<br/>\n",
       "\n",
       "                "
      ],
      "text/plain": [
       "<IPython.core.display.HTML object>"
      ]
     },
     "metadata": {},
     "output_type": "display_data"
    },
    {
     "name": "stderr",
     "output_type": "stream",
     "text": [
      "2022-01-29 08:31:31.285158: I tensorflow/core/platform/cpu_feature_guard.cc:142] This TensorFlow binary is optimized with oneAPI Deep Neural Network Library (oneDNN) to use the following CPU instructions in performance-critical operations:  SSE4.1 SSE4.2 AVX AVX2 FMA\n",
      "To enable them in other operations, rebuild TensorFlow with the appropriate compiler flags.\n",
      "2022-01-29 08:31:31.285695: I tensorflow/stream_executor/cuda/cuda_gpu_executor.cc:937] successful NUMA node read from SysFS had negative value (-1), but there must be at least one NUMA node, so returning NUMA node zero\n",
      "2022-01-29 08:31:31.287270: I tensorflow/stream_executor/cuda/cuda_gpu_executor.cc:937] successful NUMA node read from SysFS had negative value (-1), but there must be at least one NUMA node, so returning NUMA node zero\n",
      "2022-01-29 08:31:31.288678: I tensorflow/stream_executor/cuda/cuda_gpu_executor.cc:937] successful NUMA node read from SysFS had negative value (-1), but there must be at least one NUMA node, so returning NUMA node zero\n",
      "2022-01-29 08:31:32.091820: I tensorflow/stream_executor/cuda/cuda_gpu_executor.cc:937] successful NUMA node read from SysFS had negative value (-1), but there must be at least one NUMA node, so returning NUMA node zero\n",
      "2022-01-29 08:31:32.093341: I tensorflow/stream_executor/cuda/cuda_gpu_executor.cc:937] successful NUMA node read from SysFS had negative value (-1), but there must be at least one NUMA node, so returning NUMA node zero\n",
      "2022-01-29 08:31:32.094806: I tensorflow/stream_executor/cuda/cuda_gpu_executor.cc:937] successful NUMA node read from SysFS had negative value (-1), but there must be at least one NUMA node, so returning NUMA node zero\n",
      "2022-01-29 08:31:32.096198: I tensorflow/core/common_runtime/gpu/gpu_device.cc:1510] Created device /job:localhost/replica:0/task:0/device:GPU:0 with 46707 MB memory:  -> device: 0, name: NVIDIA RTX A6000, pci bus id: 0000:00:05.0, compute capability: 8.6\n",
      "2022-01-29 08:31:33.856914: I tensorflow/compiler/mlir/mlir_graph_optimization_pass.cc:185] None of the MLIR Optimization Passes are enabled (registered 2)\n"
     ]
    },
    {
     "name": "stdout",
     "output_type": "stream",
     "text": [
      "Epoch 1/50\n"
     ]
    },
    {
     "name": "stderr",
     "output_type": "stream",
     "text": [
      "2022-01-29 08:31:42.438880: I tensorflow/stream_executor/cuda/cuda_dnn.cc:369] Loaded cuDNN version 8201\n",
      "2022-01-29 08:31:44.149284: I tensorflow/core/platform/default/subprocess.cc:304] Start cannot spawn child process: No such file or directory\n",
      "2022-01-29 08:31:44.149686: I tensorflow/core/platform/default/subprocess.cc:304] Start cannot spawn child process: No such file or directory\n",
      "2022-01-29 08:31:44.149711: W tensorflow/stream_executor/gpu/asm_compiler.cc:77] Couldn't get ptxas version string: Internal: Couldn't invoke ptxas --version\n",
      "2022-01-29 08:31:44.150099: I tensorflow/core/platform/default/subprocess.cc:304] Start cannot spawn child process: No such file or directory\n",
      "2022-01-29 08:31:44.150157: W tensorflow/stream_executor/gpu/redzone_allocator.cc:314] Internal: Failed to launch ptxas\n",
      "Relying on driver to perform ptx compilation. \n",
      "Modify $PATH to customize ptxas location.\n",
      "This message will be only logged once.\n",
      "2022-01-29 08:31:45.739538: I tensorflow/stream_executor/cuda/cuda_blas.cc:1760] TensorFloat-32 will be used for the matrix multiplication. This will only be logged once.\n"
     ]
    },
    {
     "name": "stdout",
     "output_type": "stream",
     "text": [
      "176/176 [==============================] - 16s 32ms/step - loss: 1.8041 - accuracy: 0.3405 - top-3-accuracy: 0.6697 - top-5-accuracy: 0.8337 - val_loss: 1.5242 - val_accuracy: 0.4520 - val_top-3-accuracy: 0.7768 - val_top-5-accuracy: 0.9026\n"
     ]
    },
    {
     "name": "stderr",
     "output_type": "stream",
     "text": [
      "WARNING:root:Only 108 Image will be uploaded.\n"
     ]
    },
    {
     "name": "stdout",
     "output_type": "stream",
     "text": [
      "Epoch 2/50\n",
      "176/176 [==============================] - 5s 30ms/step - loss: 1.4463 - accuracy: 0.4786 - top-3-accuracy: 0.8015 - top-5-accuracy: 0.9199 - val_loss: 1.3283 - val_accuracy: 0.5150 - val_top-3-accuracy: 0.8400 - val_top-5-accuracy: 0.9370\n"
     ]
    },
    {
     "name": "stderr",
     "output_type": "stream",
     "text": [
      "WARNING:root:Only 108 Image will be uploaded.\n"
     ]
    },
    {
     "name": "stdout",
     "output_type": "stream",
     "text": [
      "Epoch 3/50\n",
      "176/176 [==============================] - 5s 30ms/step - loss: 1.3219 - accuracy: 0.5243 - top-3-accuracy: 0.8325 - top-5-accuracy: 0.9375 - val_loss: 1.2157 - val_accuracy: 0.5592 - val_top-3-accuracy: 0.8612 - val_top-5-accuracy: 0.9540\n"
     ]
    },
    {
     "name": "stderr",
     "output_type": "stream",
     "text": [
      "WARNING:root:Only 108 Image will be uploaded.\n"
     ]
    },
    {
     "name": "stdout",
     "output_type": "stream",
     "text": [
      "Epoch 4/50\n",
      "176/176 [==============================] - 5s 30ms/step - loss: 1.2501 - accuracy: 0.5554 - top-3-accuracy: 0.8509 - top-5-accuracy: 0.9455 - val_loss: 1.1476 - val_accuracy: 0.5918 - val_top-3-accuracy: 0.8794 - val_top-5-accuracy: 0.9564\n"
     ]
    },
    {
     "name": "stderr",
     "output_type": "stream",
     "text": [
      "WARNING:root:Only 108 Image will be uploaded.\n"
     ]
    },
    {
     "name": "stdout",
     "output_type": "stream",
     "text": [
      "Epoch 5/50\n",
      "176/176 [==============================] - 5s 30ms/step - loss: 1.1867 - accuracy: 0.5757 - top-3-accuracy: 0.8662 - top-5-accuracy: 0.9521 - val_loss: 1.1444 - val_accuracy: 0.5848 - val_top-3-accuracy: 0.8810 - val_top-5-accuracy: 0.9610\n"
     ]
    },
    {
     "name": "stderr",
     "output_type": "stream",
     "text": [
      "WARNING:root:Only 108 Image will be uploaded.\n"
     ]
    },
    {
     "name": "stdout",
     "output_type": "stream",
     "text": [
      "Epoch 6/50\n",
      "176/176 [==============================] - 5s 30ms/step - loss: 1.1324 - accuracy: 0.5992 - top-3-accuracy: 0.8751 - top-5-accuracy: 0.9571 - val_loss: 1.0791 - val_accuracy: 0.6130 - val_top-3-accuracy: 0.8886 - val_top-5-accuracy: 0.9652\n"
     ]
    },
    {
     "name": "stderr",
     "output_type": "stream",
     "text": [
      "WARNING:root:Only 108 Image will be uploaded.\n"
     ]
    },
    {
     "name": "stdout",
     "output_type": "stream",
     "text": [
      "Epoch 7/50\n",
      "176/176 [==============================] - 5s 30ms/step - loss: 1.0891 - accuracy: 0.6141 - top-3-accuracy: 0.8850 - top-5-accuracy: 0.9608 - val_loss: 1.0370 - val_accuracy: 0.6328 - val_top-3-accuracy: 0.9002 - val_top-5-accuracy: 0.9674\n"
     ]
    },
    {
     "name": "stderr",
     "output_type": "stream",
     "text": [
      "WARNING:root:Only 108 Image will be uploaded.\n"
     ]
    },
    {
     "name": "stdout",
     "output_type": "stream",
     "text": [
      "Epoch 8/50\n",
      "176/176 [==============================] - 5s 30ms/step - loss: 1.0471 - accuracy: 0.6276 - top-3-accuracy: 0.8912 - top-5-accuracy: 0.9638 - val_loss: 1.0102 - val_accuracy: 0.6338 - val_top-3-accuracy: 0.9020 - val_top-5-accuracy: 0.9690\n"
     ]
    },
    {
     "name": "stderr",
     "output_type": "stream",
     "text": [
      "WARNING:root:Only 108 Image will be uploaded.\n"
     ]
    },
    {
     "name": "stdout",
     "output_type": "stream",
     "text": [
      "Epoch 9/50\n",
      "176/176 [==============================] - 5s 30ms/step - loss: 1.0208 - accuracy: 0.6344 - top-3-accuracy: 0.8972 - top-5-accuracy: 0.9672 - val_loss: 0.9771 - val_accuracy: 0.6580 - val_top-3-accuracy: 0.9092 - val_top-5-accuracy: 0.9726\n"
     ]
    },
    {
     "name": "stderr",
     "output_type": "stream",
     "text": [
      "WARNING:root:Only 108 Image will be uploaded.\n"
     ]
    },
    {
     "name": "stdout",
     "output_type": "stream",
     "text": [
      "Epoch 10/50\n",
      "176/176 [==============================] - 5s 30ms/step - loss: 0.9824 - accuracy: 0.6516 - top-3-accuracy: 0.9036 - top-5-accuracy: 0.9690 - val_loss: 0.9646 - val_accuracy: 0.6510 - val_top-3-accuracy: 0.9124 - val_top-5-accuracy: 0.9710\n"
     ]
    },
    {
     "name": "stderr",
     "output_type": "stream",
     "text": [
      "WARNING:root:Only 108 Image will be uploaded.\n"
     ]
    },
    {
     "name": "stdout",
     "output_type": "stream",
     "text": [
      "Epoch 11/50\n",
      "176/176 [==============================] - 5s 30ms/step - loss: 0.9481 - accuracy: 0.6643 - top-3-accuracy: 0.9098 - top-5-accuracy: 0.9727 - val_loss: 0.9393 - val_accuracy: 0.6644 - val_top-3-accuracy: 0.9124 - val_top-5-accuracy: 0.9720\n"
     ]
    },
    {
     "name": "stderr",
     "output_type": "stream",
     "text": [
      "WARNING:root:Only 108 Image will be uploaded.\n"
     ]
    },
    {
     "name": "stdout",
     "output_type": "stream",
     "text": [
      "Epoch 12/50\n",
      "176/176 [==============================] - 5s 30ms/step - loss: 0.9299 - accuracy: 0.6722 - top-3-accuracy: 0.9129 - top-5-accuracy: 0.9728 - val_loss: 0.9426 - val_accuracy: 0.6666 - val_top-3-accuracy: 0.9136 - val_top-5-accuracy: 0.9756\n"
     ]
    },
    {
     "name": "stderr",
     "output_type": "stream",
     "text": [
      "WARNING:root:Only 108 Image will be uploaded.\n"
     ]
    },
    {
     "name": "stdout",
     "output_type": "stream",
     "text": [
      "Epoch 13/50\n",
      "176/176 [==============================] - 5s 30ms/step - loss: 0.9025 - accuracy: 0.6810 - top-3-accuracy: 0.9163 - top-5-accuracy: 0.9746 - val_loss: 0.9208 - val_accuracy: 0.6824 - val_top-3-accuracy: 0.9170 - val_top-5-accuracy: 0.9760\n"
     ]
    },
    {
     "name": "stderr",
     "output_type": "stream",
     "text": [
      "WARNING:root:Only 108 Image will be uploaded.\n"
     ]
    },
    {
     "name": "stdout",
     "output_type": "stream",
     "text": [
      "Epoch 14/50\n",
      "176/176 [==============================] - 5s 31ms/step - loss: 0.8782 - accuracy: 0.6917 - top-3-accuracy: 0.9207 - top-5-accuracy: 0.9760 - val_loss: 0.8917 - val_accuracy: 0.6870 - val_top-3-accuracy: 0.9224 - val_top-5-accuracy: 0.9762\n"
     ]
    },
    {
     "name": "stderr",
     "output_type": "stream",
     "text": [
      "WARNING:root:Only 108 Image will be uploaded.\n"
     ]
    },
    {
     "name": "stdout",
     "output_type": "stream",
     "text": [
      "Epoch 15/50\n",
      "176/176 [==============================] - 5s 30ms/step - loss: 0.8599 - accuracy: 0.6962 - top-3-accuracy: 0.9236 - top-5-accuracy: 0.9778 - val_loss: 0.8885 - val_accuracy: 0.6904 - val_top-3-accuracy: 0.9242 - val_top-5-accuracy: 0.9760\n"
     ]
    },
    {
     "name": "stderr",
     "output_type": "stream",
     "text": [
      "WARNING:root:Only 108 Image will be uploaded.\n"
     ]
    },
    {
     "name": "stdout",
     "output_type": "stream",
     "text": [
      "Epoch 16/50\n",
      "176/176 [==============================] - 5s 30ms/step - loss: 0.8329 - accuracy: 0.7059 - top-3-accuracy: 0.9282 - top-5-accuracy: 0.9794 - val_loss: 0.9177 - val_accuracy: 0.6820 - val_top-3-accuracy: 0.9190 - val_top-5-accuracy: 0.9730\n"
     ]
    },
    {
     "name": "stderr",
     "output_type": "stream",
     "text": [
      "WARNING:root:Only 108 Image will be uploaded.\n"
     ]
    },
    {
     "name": "stdout",
     "output_type": "stream",
     "text": [
      "Epoch 17/50\n",
      "176/176 [==============================] - 5s 30ms/step - loss: 0.8320 - accuracy: 0.7040 - top-3-accuracy: 0.9281 - top-5-accuracy: 0.9788 - val_loss: 0.8718 - val_accuracy: 0.6960 - val_top-3-accuracy: 0.9256 - val_top-5-accuracy: 0.9778\n"
     ]
    },
    {
     "name": "stderr",
     "output_type": "stream",
     "text": [
      "WARNING:root:Only 108 Image will be uploaded.\n"
     ]
    },
    {
     "name": "stdout",
     "output_type": "stream",
     "text": [
      "Epoch 18/50\n",
      "176/176 [==============================] - 5s 30ms/step - loss: 0.7998 - accuracy: 0.7176 - top-3-accuracy: 0.9322 - top-5-accuracy: 0.9813 - val_loss: 0.8653 - val_accuracy: 0.6978 - val_top-3-accuracy: 0.9232 - val_top-5-accuracy: 0.9766\n"
     ]
    },
    {
     "name": "stderr",
     "output_type": "stream",
     "text": [
      "WARNING:root:Only 108 Image will be uploaded.\n"
     ]
    },
    {
     "name": "stdout",
     "output_type": "stream",
     "text": [
      "Epoch 19/50\n",
      "176/176 [==============================] - 5s 29ms/step - loss: 0.7791 - accuracy: 0.7214 - top-3-accuracy: 0.9347 - top-5-accuracy: 0.9829 - val_loss: 0.8493 - val_accuracy: 0.7134 - val_top-3-accuracy: 0.9260 - val_top-5-accuracy: 0.9786\n"
     ]
    },
    {
     "name": "stderr",
     "output_type": "stream",
     "text": [
      "WARNING:root:Only 108 Image will be uploaded.\n"
     ]
    },
    {
     "name": "stdout",
     "output_type": "stream",
     "text": [
      "Epoch 20/50\n",
      "176/176 [==============================] - 5s 29ms/step - loss: 0.7545 - accuracy: 0.7347 - top-3-accuracy: 0.9381 - top-5-accuracy: 0.9826 - val_loss: 0.8434 - val_accuracy: 0.7054 - val_top-3-accuracy: 0.9268 - val_top-5-accuracy: 0.9762\n"
     ]
    },
    {
     "name": "stderr",
     "output_type": "stream",
     "text": [
      "WARNING:root:Only 108 Image will be uploaded.\n"
     ]
    },
    {
     "name": "stdout",
     "output_type": "stream",
     "text": [
      "Epoch 21/50\n",
      "176/176 [==============================] - 5s 30ms/step - loss: 0.7437 - accuracy: 0.7371 - top-3-accuracy: 0.9401 - top-5-accuracy: 0.9836 - val_loss: 0.8231 - val_accuracy: 0.7094 - val_top-3-accuracy: 0.9314 - val_top-5-accuracy: 0.9780\n"
     ]
    },
    {
     "name": "stderr",
     "output_type": "stream",
     "text": [
      "WARNING:root:Only 108 Image will be uploaded.\n"
     ]
    },
    {
     "name": "stdout",
     "output_type": "stream",
     "text": [
      "Epoch 22/50\n",
      "176/176 [==============================] - 5s 30ms/step - loss: 0.7268 - accuracy: 0.7428 - top-3-accuracy: 0.9444 - top-5-accuracy: 0.9841 - val_loss: 0.8264 - val_accuracy: 0.7138 - val_top-3-accuracy: 0.9312 - val_top-5-accuracy: 0.9798\n"
     ]
    },
    {
     "name": "stderr",
     "output_type": "stream",
     "text": [
      "WARNING:root:Only 108 Image will be uploaded.\n"
     ]
    },
    {
     "name": "stdout",
     "output_type": "stream",
     "text": [
      "Epoch 23/50\n",
      "176/176 [==============================] - 5s 29ms/step - loss: 0.7138 - accuracy: 0.7498 - top-3-accuracy: 0.9449 - top-5-accuracy: 0.9845 - val_loss: 0.8050 - val_accuracy: 0.7194 - val_top-3-accuracy: 0.9268 - val_top-5-accuracy: 0.9788\n"
     ]
    },
    {
     "name": "stderr",
     "output_type": "stream",
     "text": [
      "WARNING:root:Only 108 Image will be uploaded.\n"
     ]
    },
    {
     "name": "stdout",
     "output_type": "stream",
     "text": [
      "Epoch 24/50\n",
      "176/176 [==============================] - 5s 29ms/step - loss: 0.6941 - accuracy: 0.7543 - top-3-accuracy: 0.9479 - top-5-accuracy: 0.9863 - val_loss: 0.8011 - val_accuracy: 0.7266 - val_top-3-accuracy: 0.9370 - val_top-5-accuracy: 0.9814\n"
     ]
    },
    {
     "name": "stderr",
     "output_type": "stream",
     "text": [
      "WARNING:root:Only 108 Image will be uploaded.\n"
     ]
    },
    {
     "name": "stdout",
     "output_type": "stream",
     "text": [
      "Epoch 25/50\n",
      "176/176 [==============================] - 5s 29ms/step - loss: 0.6907 - accuracy: 0.7545 - top-3-accuracy: 0.9487 - top-5-accuracy: 0.9858 - val_loss: 0.8151 - val_accuracy: 0.7210 - val_top-3-accuracy: 0.9324 - val_top-5-accuracy: 0.9784\n"
     ]
    },
    {
     "name": "stderr",
     "output_type": "stream",
     "text": [
      "WARNING:root:Only 108 Image will be uploaded.\n"
     ]
    },
    {
     "name": "stdout",
     "output_type": "stream",
     "text": [
      "Epoch 26/50\n",
      "176/176 [==============================] - 5s 29ms/step - loss: 0.6639 - accuracy: 0.7647 - top-3-accuracy: 0.9527 - top-5-accuracy: 0.9879 - val_loss: 0.8033 - val_accuracy: 0.7212 - val_top-3-accuracy: 0.9334 - val_top-5-accuracy: 0.9810\n"
     ]
    },
    {
     "name": "stderr",
     "output_type": "stream",
     "text": [
      "WARNING:root:Only 108 Image will be uploaded.\n"
     ]
    },
    {
     "name": "stdout",
     "output_type": "stream",
     "text": [
      "Epoch 27/50\n",
      "176/176 [==============================] - 5s 30ms/step - loss: 0.6509 - accuracy: 0.7690 - top-3-accuracy: 0.9545 - top-5-accuracy: 0.9882 - val_loss: 0.8056 - val_accuracy: 0.7222 - val_top-3-accuracy: 0.9338 - val_top-5-accuracy: 0.9792\n"
     ]
    },
    {
     "name": "stderr",
     "output_type": "stream",
     "text": [
      "WARNING:root:Only 108 Image will be uploaded.\n"
     ]
    },
    {
     "name": "stdout",
     "output_type": "stream",
     "text": [
      "Epoch 28/50\n",
      "176/176 [==============================] - 5s 30ms/step - loss: 0.6444 - accuracy: 0.7717 - top-3-accuracy: 0.9527 - top-5-accuracy: 0.9878 - val_loss: 0.7999 - val_accuracy: 0.7230 - val_top-3-accuracy: 0.9354 - val_top-5-accuracy: 0.9814\n"
     ]
    },
    {
     "name": "stderr",
     "output_type": "stream",
     "text": [
      "WARNING:root:Only 108 Image will be uploaded.\n"
     ]
    },
    {
     "name": "stdout",
     "output_type": "stream",
     "text": [
      "Epoch 29/50\n",
      "176/176 [==============================] - 5s 29ms/step - loss: 0.6332 - accuracy: 0.7772 - top-3-accuracy: 0.9552 - top-5-accuracy: 0.9898 - val_loss: 0.8248 - val_accuracy: 0.7182 - val_top-3-accuracy: 0.9342 - val_top-5-accuracy: 0.9780\n"
     ]
    },
    {
     "name": "stderr",
     "output_type": "stream",
     "text": [
      "WARNING:root:Only 108 Image will be uploaded.\n"
     ]
    },
    {
     "name": "stdout",
     "output_type": "stream",
     "text": [
      "Epoch 30/50\n",
      "176/176 [==============================] - 5s 29ms/step - loss: 0.6238 - accuracy: 0.7783 - top-3-accuracy: 0.9583 - top-5-accuracy: 0.9894 - val_loss: 0.7964 - val_accuracy: 0.7314 - val_top-3-accuracy: 0.9342 - val_top-5-accuracy: 0.9804\n"
     ]
    },
    {
     "name": "stderr",
     "output_type": "stream",
     "text": [
      "WARNING:root:Only 108 Image will be uploaded.\n"
     ]
    },
    {
     "name": "stdout",
     "output_type": "stream",
     "text": [
      "Epoch 31/50\n",
      "176/176 [==============================] - 5s 29ms/step - loss: 0.6091 - accuracy: 0.7840 - top-3-accuracy: 0.9593 - top-5-accuracy: 0.9889 - val_loss: 0.7877 - val_accuracy: 0.7302 - val_top-3-accuracy: 0.9356 - val_top-5-accuracy: 0.9808\n"
     ]
    },
    {
     "name": "stderr",
     "output_type": "stream",
     "text": [
      "WARNING:root:Only 108 Image will be uploaded.\n"
     ]
    },
    {
     "name": "stdout",
     "output_type": "stream",
     "text": [
      "Epoch 32/50\n",
      "176/176 [==============================] - 5s 29ms/step - loss: 0.5901 - accuracy: 0.7922 - top-3-accuracy: 0.9614 - top-5-accuracy: 0.9907 - val_loss: 0.7959 - val_accuracy: 0.7314 - val_top-3-accuracy: 0.9372 - val_top-5-accuracy: 0.9818\n"
     ]
    },
    {
     "name": "stderr",
     "output_type": "stream",
     "text": [
      "WARNING:root:Only 108 Image will be uploaded.\n"
     ]
    },
    {
     "name": "stdout",
     "output_type": "stream",
     "text": [
      "Epoch 33/50\n",
      "176/176 [==============================] - 5s 29ms/step - loss: 0.5873 - accuracy: 0.7916 - top-3-accuracy: 0.9618 - top-5-accuracy: 0.9907 - val_loss: 0.8166 - val_accuracy: 0.7250 - val_top-3-accuracy: 0.9340 - val_top-5-accuracy: 0.9828\n"
     ]
    },
    {
     "name": "stderr",
     "output_type": "stream",
     "text": [
      "WARNING:root:Only 108 Image will be uploaded.\n"
     ]
    },
    {
     "name": "stdout",
     "output_type": "stream",
     "text": [
      "Epoch 34/50\n",
      "176/176 [==============================] - 5s 28ms/step - loss: 0.5705 - accuracy: 0.7955 - top-3-accuracy: 0.9642 - top-5-accuracy: 0.9916 - val_loss: 0.8183 - val_accuracy: 0.7236 - val_top-3-accuracy: 0.9308 - val_top-5-accuracy: 0.9776\n"
     ]
    },
    {
     "name": "stderr",
     "output_type": "stream",
     "text": [
      "WARNING:root:Only 108 Image will be uploaded.\n"
     ]
    },
    {
     "name": "stdout",
     "output_type": "stream",
     "text": [
      "Epoch 35/50\n",
      "176/176 [==============================] - 5s 29ms/step - loss: 0.5616 - accuracy: 0.7997 - top-3-accuracy: 0.9656 - top-5-accuracy: 0.9921 - val_loss: 0.8291 - val_accuracy: 0.7270 - val_top-3-accuracy: 0.9318 - val_top-5-accuracy: 0.9784\n"
     ]
    },
    {
     "name": "stderr",
     "output_type": "stream",
     "text": [
      "WARNING:root:Only 108 Image will be uploaded.\n"
     ]
    },
    {
     "name": "stdout",
     "output_type": "stream",
     "text": [
      "Epoch 36/50\n",
      "176/176 [==============================] - 5s 28ms/step - loss: 0.5505 - accuracy: 0.8038 - top-3-accuracy: 0.9661 - top-5-accuracy: 0.9921 - val_loss: 0.7986 - val_accuracy: 0.7308 - val_top-3-accuracy: 0.9310 - val_top-5-accuracy: 0.9832\n"
     ]
    },
    {
     "name": "stderr",
     "output_type": "stream",
     "text": [
      "WARNING:root:Only 108 Image will be uploaded.\n"
     ]
    },
    {
     "name": "stdout",
     "output_type": "stream",
     "text": [
      "Epoch 37/50\n",
      "176/176 [==============================] - 5s 29ms/step - loss: 0.5390 - accuracy: 0.8087 - top-3-accuracy: 0.9678 - top-5-accuracy: 0.9928 - val_loss: 0.8198 - val_accuracy: 0.7260 - val_top-3-accuracy: 0.9322 - val_top-5-accuracy: 0.9808\n"
     ]
    },
    {
     "name": "stderr",
     "output_type": "stream",
     "text": [
      "WARNING:root:Only 108 Image will be uploaded.\n"
     ]
    },
    {
     "name": "stdout",
     "output_type": "stream",
     "text": [
      "Epoch 38/50\n",
      "176/176 [==============================] - 5s 29ms/step - loss: 0.5357 - accuracy: 0.8089 - top-3-accuracy: 0.9673 - top-5-accuracy: 0.9921 - val_loss: 0.8075 - val_accuracy: 0.7310 - val_top-3-accuracy: 0.9340 - val_top-5-accuracy: 0.9838\n"
     ]
    },
    {
     "name": "stderr",
     "output_type": "stream",
     "text": [
      "WARNING:root:Only 108 Image will be uploaded.\n"
     ]
    },
    {
     "name": "stdout",
     "output_type": "stream",
     "text": [
      "Epoch 39/50\n",
      "176/176 [==============================] - 5s 29ms/step - loss: 0.5202 - accuracy: 0.8138 - top-3-accuracy: 0.9704 - top-5-accuracy: 0.9936 - val_loss: 0.8373 - val_accuracy: 0.7240 - val_top-3-accuracy: 0.9298 - val_top-5-accuracy: 0.9788\n"
     ]
    },
    {
     "name": "stderr",
     "output_type": "stream",
     "text": [
      "WARNING:root:Only 108 Image will be uploaded.\n"
     ]
    },
    {
     "name": "stdout",
     "output_type": "stream",
     "text": [
      "Epoch 40/50\n",
      "176/176 [==============================] - 5s 28ms/step - loss: 0.5203 - accuracy: 0.8129 - top-3-accuracy: 0.9704 - top-5-accuracy: 0.9936 - val_loss: 0.8060 - val_accuracy: 0.7350 - val_top-3-accuracy: 0.9352 - val_top-5-accuracy: 0.9800\n"
     ]
    },
    {
     "name": "stderr",
     "output_type": "stream",
     "text": [
      "WARNING:root:Only 108 Image will be uploaded.\n"
     ]
    },
    {
     "name": "stdout",
     "output_type": "stream",
     "text": [
      "Epoch 41/50\n",
      "176/176 [==============================] - 5s 29ms/step - loss: 0.4980 - accuracy: 0.8224 - top-3-accuracy: 0.9715 - top-5-accuracy: 0.9938 - val_loss: 0.8134 - val_accuracy: 0.7330 - val_top-3-accuracy: 0.9334 - val_top-5-accuracy: 0.9818\n"
     ]
    },
    {
     "name": "stderr",
     "output_type": "stream",
     "text": [
      "WARNING:root:Only 108 Image will be uploaded.\n"
     ]
    },
    {
     "name": "stdout",
     "output_type": "stream",
     "text": [
      "Epoch 42/50\n",
      "176/176 [==============================] - 5s 29ms/step - loss: 0.4919 - accuracy: 0.8226 - top-3-accuracy: 0.9730 - top-5-accuracy: 0.9942 - val_loss: 0.8307 - val_accuracy: 0.7312 - val_top-3-accuracy: 0.9346 - val_top-5-accuracy: 0.9808\n"
     ]
    },
    {
     "name": "stderr",
     "output_type": "stream",
     "text": [
      "WARNING:root:Only 108 Image will be uploaded.\n"
     ]
    },
    {
     "name": "stdout",
     "output_type": "stream",
     "text": [
      "Epoch 43/50\n",
      "176/176 [==============================] - 5s 29ms/step - loss: 0.4928 - accuracy: 0.8245 - top-3-accuracy: 0.9722 - top-5-accuracy: 0.9937 - val_loss: 0.8366 - val_accuracy: 0.7312 - val_top-3-accuracy: 0.9300 - val_top-5-accuracy: 0.9796\n"
     ]
    },
    {
     "name": "stderr",
     "output_type": "stream",
     "text": [
      "WARNING:root:Only 108 Image will be uploaded.\n"
     ]
    },
    {
     "name": "stdout",
     "output_type": "stream",
     "text": [
      "Epoch 44/50\n",
      "176/176 [==============================] - 5s 28ms/step - loss: 0.4847 - accuracy: 0.8265 - top-3-accuracy: 0.9720 - top-5-accuracy: 0.9942 - val_loss: 0.8258 - val_accuracy: 0.7400 - val_top-3-accuracy: 0.9330 - val_top-5-accuracy: 0.9808\n"
     ]
    },
    {
     "name": "stderr",
     "output_type": "stream",
     "text": [
      "WARNING:root:Only 108 Image will be uploaded.\n"
     ]
    },
    {
     "name": "stdout",
     "output_type": "stream",
     "text": [
      "Epoch 45/50\n",
      "176/176 [==============================] - 5s 28ms/step - loss: 0.4701 - accuracy: 0.8314 - top-3-accuracy: 0.9755 - top-5-accuracy: 0.9949 - val_loss: 0.8630 - val_accuracy: 0.7218 - val_top-3-accuracy: 0.9304 - val_top-5-accuracy: 0.9798\n"
     ]
    },
    {
     "name": "stderr",
     "output_type": "stream",
     "text": [
      "WARNING:root:Only 108 Image will be uploaded.\n"
     ]
    },
    {
     "name": "stdout",
     "output_type": "stream",
     "text": [
      "Epoch 46/50\n",
      "176/176 [==============================] - 5s 29ms/step - loss: 0.4591 - accuracy: 0.8344 - top-3-accuracy: 0.9766 - top-5-accuracy: 0.9949 - val_loss: 0.8509 - val_accuracy: 0.7272 - val_top-3-accuracy: 0.9342 - val_top-5-accuracy: 0.9812\n"
     ]
    },
    {
     "name": "stderr",
     "output_type": "stream",
     "text": [
      "WARNING:root:Only 108 Image will be uploaded.\n"
     ]
    },
    {
     "name": "stdout",
     "output_type": "stream",
     "text": [
      "Epoch 47/50\n",
      "176/176 [==============================] - 5s 28ms/step - loss: 0.4580 - accuracy: 0.8360 - top-3-accuracy: 0.9763 - top-5-accuracy: 0.9955 - val_loss: 0.8548 - val_accuracy: 0.7302 - val_top-3-accuracy: 0.9334 - val_top-5-accuracy: 0.9786\n"
     ]
    },
    {
     "name": "stderr",
     "output_type": "stream",
     "text": [
      "WARNING:root:Only 108 Image will be uploaded.\n"
     ]
    },
    {
     "name": "stdout",
     "output_type": "stream",
     "text": [
      "Epoch 48/50\n",
      "176/176 [==============================] - 5s 29ms/step - loss: 0.4445 - accuracy: 0.8406 - top-3-accuracy: 0.9771 - top-5-accuracy: 0.9956 - val_loss: 0.8365 - val_accuracy: 0.7352 - val_top-3-accuracy: 0.9334 - val_top-5-accuracy: 0.9806\n"
     ]
    },
    {
     "name": "stderr",
     "output_type": "stream",
     "text": [
      "WARNING:root:Only 108 Image will be uploaded.\n"
     ]
    },
    {
     "name": "stdout",
     "output_type": "stream",
     "text": [
      "Epoch 49/50\n",
      "176/176 [==============================] - 5s 28ms/step - loss: 0.4394 - accuracy: 0.8428 - top-3-accuracy: 0.9786 - top-5-accuracy: 0.9958 - val_loss: 0.8339 - val_accuracy: 0.7374 - val_top-3-accuracy: 0.9348 - val_top-5-accuracy: 0.9820\n"
     ]
    },
    {
     "name": "stderr",
     "output_type": "stream",
     "text": [
      "WARNING:root:Only 108 Image will be uploaded.\n"
     ]
    },
    {
     "name": "stdout",
     "output_type": "stream",
     "text": [
      "Epoch 50/50\n",
      "176/176 [==============================] - 5s 28ms/step - loss: 0.4344 - accuracy: 0.8453 - top-3-accuracy: 0.9773 - top-5-accuracy: 0.9957 - val_loss: 0.8758 - val_accuracy: 0.7286 - val_top-3-accuracy: 0.9342 - val_top-5-accuracy: 0.9776\n"
     ]
    },
    {
     "name": "stderr",
     "output_type": "stream",
     "text": [
      "WARNING:root:Only 108 Image will be uploaded.\n"
     ]
    },
    {
     "name": "stdout",
     "output_type": "stream",
     "text": [
      "313/313 [==============================] - 4s 12ms/step - loss: 0.9038 - accuracy: 0.7243 - top-3-accuracy: 0.9290 - top-5-accuracy: 0.9769\n"
     ]
    },
    {
     "data": {
      "text/html": [
       "<br/>Waiting for W&B process to finish, PID 31325... <strong style=\"color:green\">(success).</strong>"
      ],
      "text/plain": [
       "<IPython.core.display.HTML object>"
      ]
     },
     "metadata": {},
     "output_type": "display_data"
    }
   ],
   "source": [
    "wandb.login()\n",
    "\n",
    "with wandb.init(project='mlp-mixer', name=\"cifar-10-best-hyperparams\", config=CONFIGS):\n",
    "    \n",
    "    # Define MLP-Mixer Model as per the Configs\n",
    "    model = get_mlp_mixer_model(\n",
    "        num_mixer_blocks=CONFIGS[\"num_mixer_layers\"],\n",
    "        patch_size=CONFIGS[\"patch_size\"],\n",
    "        embedding_dim=CONFIGS[\"embedding_dim\"],\n",
    "        channels_mlp_dim=CONFIGS[\"channels_mlp_dim\"],\n",
    "        num_classes=CONFIGS[\"num_classes\"],\n",
    "        preprocessing_layer=get_preprocessing_layer(\n",
    "            data_batch=x_train, target_size=CONFIGS[\"target_size\"]\n",
    "        ),\n",
    "        augmentation_layer=get_augmentation_layer(),\n",
    "    )\n",
    "    \n",
    "    # Compile the Model\n",
    "    model.compile(\n",
    "        optimizer=optimizers.Adam(learning_rate=CONFIGS[\"learning_rate\"]),\n",
    "        loss=losses.CategoricalCrossentropy(),\n",
    "        metrics=[\n",
    "            metrics.CategoricalAccuracy(name=\"accuracy\"),\n",
    "            metrics.TopKCategoricalAccuracy(3, name=\"top-3-accuracy\"),\n",
    "            metrics.TopKCategoricalAccuracy(5, name=\"top-5-accuracy\"),\n",
    "        ],\n",
    "    )\n",
    "    \n",
    "    # Define Log Projection Callback\n",
    "    log_projection_callback = LogProjectionCallback(\n",
    "        embedding_dim=CONFIGS[\"embedding_dim\"]\n",
    "    )\n",
    "\n",
    "    # Define Wandb Callback\n",
    "    wandb_callback = WandbCallback(\n",
    "        data_type='image',\n",
    "        save_model=True,\n",
    "        training_data=(x_train, y_train),\n",
    "        validation_data=(x_test, y_test),\n",
    "        labels=CONFIGS[\"class_names\"]\n",
    "    )\n",
    "\n",
    "    # Run Training\n",
    "    history = model.fit(\n",
    "        x=x_train,\n",
    "        y=y_train,\n",
    "        batch_size=CONFIGS[\"batch_size\"],\n",
    "        epochs=CONFIGS[\"epochs\"],\n",
    "        validation_split=0.1,\n",
    "        callbacks=[\n",
    "            log_projection_callback, wandb_callback\n",
    "        ]\n",
    "    )\n",
    "    \n",
    "    # Log Test Error Rate\n",
    "    loss, accuracy, top_3_accuracy, top_5_accuracy = model.evaluate(x_test, y_test)\n",
    "    wandb.log({'Test Error Rate': round((1 - accuracy) * 100, 2)})"
   ]
  },
  {
   "cell_type": "markdown",
   "metadata": {},
   "source": [
    "## Hyperparameter Tuning"
   ]
  },
  {
   "cell_type": "code",
   "execution_count": null,
   "metadata": {},
   "outputs": [],
   "source": [
    "sweep_config = {\n",
    "    'method': 'bayes', \n",
    "    'metric': {\n",
    "        'name': 'val_loss',\n",
    "        'goal': 'minimize'\n",
    "    },\n",
    "    'early_terminate':{\n",
    "        'type': 'hyperband',\n",
    "        'min_iter': 5,\n",
    "    },\n",
    "    'parameters': {\n",
    "        'batch_size': {\n",
    "            'values': [256, 512, 1024]\n",
    "        },\n",
    "        'label_smoothing': {\n",
    "            'values': [0.0, 0.01, 0.001]\n",
    "        },\n",
    "        'dropout': {\n",
    "            'values': [0.0, 0.25, 0.5]\n",
    "        },\n",
    "        'num_mixer_layers': {\n",
    "            'values': [2, 3, 4, 5, 6]\n",
    "        }\n",
    "    }\n",
    "}"
   ]
  },
  {
   "cell_type": "code",
   "execution_count": null,
   "metadata": {},
   "outputs": [],
   "source": [
    "def sweep_train_fn():\n",
    "    wandb.init(\n",
    "        project='mlp-mixer',\n",
    "        config=CONFIGS\n",
    "    )\n",
    "    wandb.config.epochs = 15\n",
    "    model = get_mlp_mixer_model(\n",
    "        num_mixer_blocks=wandb.config.num_mixer_layers,\n",
    "        patch_size=wandb.config.patch_size,\n",
    "        embedding_dim=wandb.config.embedding_dim,\n",
    "        channels_mlp_dim=wandb.config.channels_mlp_dim,\n",
    "        num_classes=wandb.config.num_classes,\n",
    "        preprocessing_layer=get_preprocessing_layer(\n",
    "            data_batch=x_train, target_size=wandb.config.target_size\n",
    "        ),\n",
    "        augmentation_layer=get_augmentation_layer(),\n",
    "    )\n",
    "    \n",
    "    # Compile the Model\n",
    "    model.compile(\n",
    "        optimizer=optimizers.Adam(learning_rate=wandb.config.learning_rate),\n",
    "        loss=losses.CategoricalCrossentropy(),\n",
    "        metrics=[\n",
    "            metrics.CategoricalAccuracy(name=\"accuracy\"),\n",
    "            metrics.TopKCategoricalAccuracy(3, name=\"top-3-accuracy\"),\n",
    "            metrics.TopKCategoricalAccuracy(5, name=\"top-5-accuracy\"),\n",
    "        ],\n",
    "    )\n",
    "    wandb_callback = WandbCallback(save_model=True)\n",
    "    history = model.fit(\n",
    "        x=x_train,\n",
    "        y=y_train,\n",
    "        batch_size=wandb.config.batch_size,\n",
    "        epochs=wandb.config.epochs,\n",
    "        validation_split=0.1,\n",
    "        callbacks=[wandb_callback]\n",
    "    )\n",
    "    loss, accuracy, top_3_accuracy, top_5_accuracy = model.evaluate(x_test, y_test)\n",
    "    wandb.log({'Test Error Rate': round((1 - accuracy) * 100, 2)})"
   ]
  },
  {
   "cell_type": "code",
   "execution_count": null,
   "metadata": {},
   "outputs": [],
   "source": [
    "wandb.login()\n",
    "sweep_id = wandb.sweep(sweep_config, project=\"mlp-mixer\")\n",
    "wandb.agent(sweep_id, function=sweep_train_fn)"
   ]
  },
  {
   "cell_type": "code",
   "execution_count": null,
   "metadata": {},
   "outputs": [],
   "source": []
  }
 ],
 "metadata": {
  "accelerator": "GPU",
  "colab": {
   "include_colab_link": true,
   "machine_shape": "hm",
   "name": "MLP_Mixer_Training",
   "provenance": []
  },
  "environment": {
   "name": "tf2-gpu.2-4.m65",
   "type": "gcloud",
   "uri": "gcr.io/deeplearning-platform-release/tf2-gpu.2-4:m65"
  },
  "kernelspec": {
   "display_name": "Python 3 (ipykernel)",
   "language": "python",
   "name": "python3"
  },
  "language_info": {
   "codemirror_mode": {
    "name": "ipython",
    "version": 3
   },
   "file_extension": ".py",
   "mimetype": "text/x-python",
   "name": "python",
   "nbconvert_exporter": "python",
   "pygments_lexer": "ipython3",
   "version": "3.9.9"
  }
 },
 "nbformat": 4,
 "nbformat_minor": 4
}
